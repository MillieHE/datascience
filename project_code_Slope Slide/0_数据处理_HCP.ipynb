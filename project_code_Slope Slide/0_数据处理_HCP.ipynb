{
 "cells": [
  {
   "cell_type": "markdown",
   "metadata": {},
   "source": [
    "## define function:data_pro() for data prepocessing"
   ]
  },
  {
   "cell_type": "code",
   "execution_count": 6,
   "metadata": {},
   "outputs": [],
   "source": [
    "import pandas as pd\n",
    "import numpy as np\n",
    "\n",
    "def data_pro(data_name):\n",
    "    data=pd.read_excel(data_name)\n",
    "    data.columns=['date','x','y','z']\n",
    "    data['date']=pd.to_datetime(data['date'])\n",
    "    data=data.groupby(['date'])[['x','y','z']].mean().reset_index()\n",
    "    data_raw=pd.DataFrame(pd.date_range(data.iloc[0][0],data.iloc[-1][0],freq='1d'))\n",
    "    data_raw.columns=['date']\n",
    "    data_raw=data_raw.merge(data,how='left',left_on='date',right_on='date')\n",
    "    data_raw=data_raw.interpolate()\n",
    "    data_raw['xx']=data_raw['x'].diff()\n",
    "    data_raw['yy']=data_raw['y'].diff()\n",
    "    data_raw['xx2']=data_raw['xx']*data_raw['xx']\n",
    "    data_raw['yy2']=data_raw['yy']*data_raw['yy']\n",
    "    data_raw['dis_xy']=np.sqrt(data_raw['xx2']+data_raw['yy2'])\n",
    "    #累计坡面位移-sum\n",
    "    data_raw['sum_xy']=np.cumsum(data_raw['dis_xy'])\n",
    "    data_result=data_raw[['date','x','y','z','dis_xy','sum_xy']]\n",
    "    \n",
    "    return data_result"
   ]
  },
  {
   "cell_type": "markdown",
   "metadata": {},
   "source": [
    "## data prepocessing"
   ]
  },
  {
   "cell_type": "code",
   "execution_count": 13,
   "metadata": {},
   "outputs": [
    {
     "name": "stdout",
     "output_type": "stream",
     "text": [
      "['HCP-HP01.xlsx', 'HCP-HP02.xlsx', 'HCP-HP03.xlsx', 'HCP-HP04.xlsx', 'HCP-HP05.xlsx', 'HCP-HP06.xlsx', 'HCP-HP07.xlsx', 'HCP-HP08.xlsx', 'HCP-HP09.xlsx', 'HCP-HP10.xlsx', 'HCP-HP11.xlsx', 'HCP-HP12.xlsx', 'HCP-HP13.xlsx']\n"
     ]
    }
   ],
   "source": [
    "import os\n",
    "os.chdir('\\HCP_raw')#####adjust\n",
    "filelist = os.listdir('\\HCP_raw')#####adjust\n",
    "print(filelist)"
   ]
  },
  {
   "cell_type": "code",
   "execution_count": 14,
   "metadata": {},
   "outputs": [],
   "source": [
    "for i in filelist:\n",
    "    os.chdir(r'\\HCP_raw')#####adjust\n",
    "    data=data_pro(i)\n",
    "    os.chdir(r'\\HCP_HP01-13_pre_result')#####adjust\n",
    "    data.to_excel(i,index=False)"
   ]
  }
 ],
 "metadata": {
  "kernelspec": {
   "display_name": "Python 3",
   "language": "python",
   "name": "python3"
  },
  "language_info": {
   "codemirror_mode": {
    "name": "ipython",
    "version": 3
   },
   "file_extension": ".py",
   "mimetype": "text/x-python",
   "name": "python",
   "nbconvert_exporter": "python",
   "pygments_lexer": "ipython3",
   "version": "3.7.4"
  },
  "toc": {
   "base_numbering": 1,
   "nav_menu": {},
   "number_sections": true,
   "sideBar": true,
   "skip_h1_title": false,
   "title_cell": "Table of Contents",
   "title_sidebar": "Contents",
   "toc_cell": false,
   "toc_position": {},
   "toc_section_display": true,
   "toc_window_display": false
  }
 },
 "nbformat": 4,
 "nbformat_minor": 2
}
