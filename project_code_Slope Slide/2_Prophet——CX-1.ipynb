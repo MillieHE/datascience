{
 "cells": [
  {
   "cell_type": "markdown",
   "metadata": {},
   "source": [
    "# 数据导入"
   ]
  },
  {
   "cell_type": "code",
   "execution_count": 4,
   "metadata": {},
   "outputs": [
    {
     "data": {
      "text/html": [
       "<div>\n",
       "<style scoped>\n",
       "    .dataframe tbody tr th:only-of-type {\n",
       "        vertical-align: middle;\n",
       "    }\n",
       "\n",
       "    .dataframe tbody tr th {\n",
       "        vertical-align: top;\n",
       "    }\n",
       "\n",
       "    .dataframe thead th {\n",
       "        text-align: right;\n",
       "    }\n",
       "</style>\n",
       "<table border=\"1\" class=\"dataframe\">\n",
       "  <thead>\n",
       "    <tr style=\"text-align: right;\">\n",
       "      <th></th>\n",
       "      <th>date</th>\n",
       "      <th>sum_xy</th>\n",
       "    </tr>\n",
       "  </thead>\n",
       "  <tbody>\n",
       "    <tr>\n",
       "      <td>1</td>\n",
       "      <td>2018-04-02</td>\n",
       "      <td>12.669649</td>\n",
       "    </tr>\n",
       "    <tr>\n",
       "      <td>2</td>\n",
       "      <td>2018-04-03</td>\n",
       "      <td>18.573038</td>\n",
       "    </tr>\n",
       "    <tr>\n",
       "      <td>3</td>\n",
       "      <td>2018-04-04</td>\n",
       "      <td>21.457479</td>\n",
       "    </tr>\n",
       "    <tr>\n",
       "      <td>4</td>\n",
       "      <td>2018-04-05</td>\n",
       "      <td>25.771410</td>\n",
       "    </tr>\n",
       "    <tr>\n",
       "      <td>5</td>\n",
       "      <td>2018-04-06</td>\n",
       "      <td>29.318239</td>\n",
       "    </tr>\n",
       "    <tr>\n",
       "      <td>...</td>\n",
       "      <td>...</td>\n",
       "      <td>...</td>\n",
       "    </tr>\n",
       "    <tr>\n",
       "      <td>510</td>\n",
       "      <td>2019-08-24</td>\n",
       "      <td>1084.850474</td>\n",
       "    </tr>\n",
       "    <tr>\n",
       "      <td>511</td>\n",
       "      <td>2019-08-25</td>\n",
       "      <td>1090.372249</td>\n",
       "    </tr>\n",
       "    <tr>\n",
       "      <td>512</td>\n",
       "      <td>2019-08-26</td>\n",
       "      <td>1091.872249</td>\n",
       "    </tr>\n",
       "    <tr>\n",
       "      <td>513</td>\n",
       "      <td>2019-08-27</td>\n",
       "      <td>1095.874749</td>\n",
       "    </tr>\n",
       "    <tr>\n",
       "      <td>514</td>\n",
       "      <td>2019-08-28</td>\n",
       "      <td>1097.955614</td>\n",
       "    </tr>\n",
       "  </tbody>\n",
       "</table>\n",
       "<p>514 rows × 2 columns</p>\n",
       "</div>"
      ],
      "text/plain": [
       "          date       sum_xy\n",
       "1   2018-04-02    12.669649\n",
       "2   2018-04-03    18.573038\n",
       "3   2018-04-04    21.457479\n",
       "4   2018-04-05    25.771410\n",
       "5   2018-04-06    29.318239\n",
       "..         ...          ...\n",
       "510 2019-08-24  1084.850474\n",
       "511 2019-08-25  1090.372249\n",
       "512 2019-08-26  1091.872249\n",
       "513 2019-08-27  1095.874749\n",
       "514 2019-08-28  1097.955614\n",
       "\n",
       "[514 rows x 2 columns]"
      ]
     },
     "execution_count": 4,
     "metadata": {},
     "output_type": "execute_result"
    }
   ],
   "source": [
    "import pandas as pd\n",
    "import numpy as np\n",
    "from fbprophet import Prophet\n",
    "import matplotlib.pyplot as plt\n",
    "\n",
    "import os\n",
    "os.chdir(r'\\LB_TP-CX_pre_result')############adjust\n",
    "data=pd.read_csv('LB_CX_1.csv',dtype='str')\n",
    "data=data.dropna()\n",
    "data=data[['date','sum_xy']]\n",
    "data['date']=pd.to_datetime(data['date'])\n",
    "data['sum_xy']=pd.to_numeric(data['sum_xy'])\n",
    "data"
   ]
  },
  {
   "cell_type": "markdown",
   "metadata": {},
   "source": [
    "# 累计位移预测_data_sum"
   ]
  },
  {
   "cell_type": "markdown",
   "metadata": {},
   "source": [
    "## 数据筛选"
   ]
  },
  {
   "cell_type": "code",
   "execution_count": 5,
   "metadata": {},
   "outputs": [],
   "source": [
    "data_sum=data"
   ]
  },
  {
   "cell_type": "markdown",
   "metadata": {},
   "source": [
    "## 按照prophet格式更改数据名称,data_dis"
   ]
  },
  {
   "cell_type": "code",
   "execution_count": 6,
   "metadata": {},
   "outputs": [],
   "source": [
    "data_sum=data_sum.rename(columns={\"sum_xy\":\"y\", \"date\":\"ds\"})"
   ]
  },
  {
   "cell_type": "markdown",
   "metadata": {},
   "source": [
    "## 训练集dataf"
   ]
  },
  {
   "cell_type": "code",
   "execution_count": 7,
   "metadata": {},
   "outputs": [],
   "source": [
    "dataf = data_sum[0:len(data_sum)-round(1*7)]#train=dataf"
   ]
  },
  {
   "cell_type": "markdown",
   "metadata": {},
   "source": [
    "## prophet拟合 训练集dataf"
   ]
  },
  {
   "cell_type": "code",
   "execution_count": 8,
   "metadata": {},
   "outputs": [
    {
     "name": "stderr",
     "output_type": "stream",
     "text": [
      "INFO:numexpr.utils:NumExpr defaulting to 8 threads.\n",
      "INFO:fbprophet:Disabling daily seasonality. Run prophet with daily_seasonality=True to override this.\n"
     ]
    },
    {
     "data": {
      "text/plain": [
       "<fbprophet.forecaster.Prophet at 0x20248ad5908>"
      ]
     },
     "execution_count": 8,
     "metadata": {},
     "output_type": "execute_result"
    }
   ],
   "source": [
    "model = Prophet(n_changepoints=25,#default=25\n",
    "                changepoint_range=0.9,#default=0.8\n",
    "                yearly_seasonality=True,weekly_seasonality=True,changepoint_prior_scale=0.5,interval_width=0.95)\n",
    "\n",
    "model.fit(dataf)"
   ]
  },
  {
   "cell_type": "markdown",
   "metadata": {},
   "source": [
    "##  预测后7天的数据"
   ]
  },
  {
   "cell_type": "code",
   "execution_count": 9,
   "metadata": {},
   "outputs": [
    {
     "data": {
      "text/html": [
       "<div>\n",
       "<style scoped>\n",
       "    .dataframe tbody tr th:only-of-type {\n",
       "        vertical-align: middle;\n",
       "    }\n",
       "\n",
       "    .dataframe tbody tr th {\n",
       "        vertical-align: top;\n",
       "    }\n",
       "\n",
       "    .dataframe thead th {\n",
       "        text-align: right;\n",
       "    }\n",
       "</style>\n",
       "<table border=\"1\" class=\"dataframe\">\n",
       "  <thead>\n",
       "    <tr style=\"text-align: right;\">\n",
       "      <th></th>\n",
       "      <th>507</th>\n",
       "      <th>508</th>\n",
       "      <th>509</th>\n",
       "      <th>510</th>\n",
       "      <th>511</th>\n",
       "      <th>512</th>\n",
       "      <th>513</th>\n",
       "    </tr>\n",
       "  </thead>\n",
       "  <tbody>\n",
       "    <tr>\n",
       "      <td>ds</td>\n",
       "      <td>2019-08-22 00:00:00</td>\n",
       "      <td>2019-08-23 00:00:00</td>\n",
       "      <td>2019-08-24 00:00:00</td>\n",
       "      <td>2019-08-25 00:00:00</td>\n",
       "      <td>2019-08-26 00:00:00</td>\n",
       "      <td>2019-08-27 00:00:00</td>\n",
       "      <td>2019-08-28 00:00:00</td>\n",
       "    </tr>\n",
       "    <tr>\n",
       "      <td>trend</td>\n",
       "      <td>1107.75</td>\n",
       "      <td>1110.53</td>\n",
       "      <td>1113.3</td>\n",
       "      <td>1116.07</td>\n",
       "      <td>1118.85</td>\n",
       "      <td>1121.62</td>\n",
       "      <td>1124.39</td>\n",
       "    </tr>\n",
       "    <tr>\n",
       "      <td>yhat_lower</td>\n",
       "      <td>1079.41</td>\n",
       "      <td>1081.22</td>\n",
       "      <td>1083.11</td>\n",
       "      <td>1084.71</td>\n",
       "      <td>1086.06</td>\n",
       "      <td>1087.32</td>\n",
       "      <td>1087.63</td>\n",
       "    </tr>\n",
       "    <tr>\n",
       "      <td>yhat_upper</td>\n",
       "      <td>1086.2</td>\n",
       "      <td>1088.24</td>\n",
       "      <td>1090.04</td>\n",
       "      <td>1092.37</td>\n",
       "      <td>1094.89</td>\n",
       "      <td>1097.98</td>\n",
       "      <td>1100.92</td>\n",
       "    </tr>\n",
       "    <tr>\n",
       "      <td>trend_lower</td>\n",
       "      <td>1107.71</td>\n",
       "      <td>1110.05</td>\n",
       "      <td>1111.98</td>\n",
       "      <td>1113.8</td>\n",
       "      <td>1115.73</td>\n",
       "      <td>1117.3</td>\n",
       "      <td>1118.61</td>\n",
       "    </tr>\n",
       "    <tr>\n",
       "      <td>trend_upper</td>\n",
       "      <td>1107.75</td>\n",
       "      <td>1111.03</td>\n",
       "      <td>1114.5</td>\n",
       "      <td>1118.61</td>\n",
       "      <td>1122.48</td>\n",
       "      <td>1127</td>\n",
       "      <td>1130.97</td>\n",
       "    </tr>\n",
       "    <tr>\n",
       "      <td>additive_terms</td>\n",
       "      <td>-24.8727</td>\n",
       "      <td>-25.8246</td>\n",
       "      <td>-26.8554</td>\n",
       "      <td>-27.6596</td>\n",
       "      <td>-28.5649</td>\n",
       "      <td>-29.31</td>\n",
       "      <td>-29.9653</td>\n",
       "    </tr>\n",
       "    <tr>\n",
       "      <td>additive_terms_lower</td>\n",
       "      <td>-24.8727</td>\n",
       "      <td>-25.8246</td>\n",
       "      <td>-26.8554</td>\n",
       "      <td>-27.6596</td>\n",
       "      <td>-28.5649</td>\n",
       "      <td>-29.31</td>\n",
       "      <td>-29.9653</td>\n",
       "    </tr>\n",
       "    <tr>\n",
       "      <td>additive_terms_upper</td>\n",
       "      <td>-24.8727</td>\n",
       "      <td>-25.8246</td>\n",
       "      <td>-26.8554</td>\n",
       "      <td>-27.6596</td>\n",
       "      <td>-28.5649</td>\n",
       "      <td>-29.31</td>\n",
       "      <td>-29.9653</td>\n",
       "    </tr>\n",
       "    <tr>\n",
       "      <td>weekly</td>\n",
       "      <td>-0.0488847</td>\n",
       "      <td>0.0546022</td>\n",
       "      <td>0.0104902</td>\n",
       "      <td>0.109747</td>\n",
       "      <td>0.0118405</td>\n",
       "      <td>-0.0332054</td>\n",
       "      <td>-0.104589</td>\n",
       "    </tr>\n",
       "    <tr>\n",
       "      <td>weekly_lower</td>\n",
       "      <td>-0.0488847</td>\n",
       "      <td>0.0546022</td>\n",
       "      <td>0.0104902</td>\n",
       "      <td>0.109747</td>\n",
       "      <td>0.0118405</td>\n",
       "      <td>-0.0332054</td>\n",
       "      <td>-0.104589</td>\n",
       "    </tr>\n",
       "    <tr>\n",
       "      <td>weekly_upper</td>\n",
       "      <td>-0.0488847</td>\n",
       "      <td>0.0546022</td>\n",
       "      <td>0.0104902</td>\n",
       "      <td>0.109747</td>\n",
       "      <td>0.0118405</td>\n",
       "      <td>-0.0332054</td>\n",
       "      <td>-0.104589</td>\n",
       "    </tr>\n",
       "    <tr>\n",
       "      <td>yearly</td>\n",
       "      <td>-24.8238</td>\n",
       "      <td>-25.8792</td>\n",
       "      <td>-26.8658</td>\n",
       "      <td>-27.7693</td>\n",
       "      <td>-28.5767</td>\n",
       "      <td>-29.2768</td>\n",
       "      <td>-29.8607</td>\n",
       "    </tr>\n",
       "    <tr>\n",
       "      <td>yearly_lower</td>\n",
       "      <td>-24.8238</td>\n",
       "      <td>-25.8792</td>\n",
       "      <td>-26.8658</td>\n",
       "      <td>-27.7693</td>\n",
       "      <td>-28.5767</td>\n",
       "      <td>-29.2768</td>\n",
       "      <td>-29.8607</td>\n",
       "    </tr>\n",
       "    <tr>\n",
       "      <td>yearly_upper</td>\n",
       "      <td>-24.8238</td>\n",
       "      <td>-25.8792</td>\n",
       "      <td>-26.8658</td>\n",
       "      <td>-27.7693</td>\n",
       "      <td>-28.5767</td>\n",
       "      <td>-29.2768</td>\n",
       "      <td>-29.8607</td>\n",
       "    </tr>\n",
       "    <tr>\n",
       "      <td>multiplicative_terms</td>\n",
       "      <td>0</td>\n",
       "      <td>0</td>\n",
       "      <td>0</td>\n",
       "      <td>0</td>\n",
       "      <td>0</td>\n",
       "      <td>0</td>\n",
       "      <td>0</td>\n",
       "    </tr>\n",
       "    <tr>\n",
       "      <td>multiplicative_terms_lower</td>\n",
       "      <td>0</td>\n",
       "      <td>0</td>\n",
       "      <td>0</td>\n",
       "      <td>0</td>\n",
       "      <td>0</td>\n",
       "      <td>0</td>\n",
       "      <td>0</td>\n",
       "    </tr>\n",
       "    <tr>\n",
       "      <td>multiplicative_terms_upper</td>\n",
       "      <td>0</td>\n",
       "      <td>0</td>\n",
       "      <td>0</td>\n",
       "      <td>0</td>\n",
       "      <td>0</td>\n",
       "      <td>0</td>\n",
       "      <td>0</td>\n",
       "    </tr>\n",
       "    <tr>\n",
       "      <td>yhat</td>\n",
       "      <td>1082.88</td>\n",
       "      <td>1084.7</td>\n",
       "      <td>1086.45</td>\n",
       "      <td>1088.41</td>\n",
       "      <td>1090.28</td>\n",
       "      <td>1092.31</td>\n",
       "      <td>1094.43</td>\n",
       "    </tr>\n",
       "  </tbody>\n",
       "</table>\n",
       "</div>"
      ],
      "text/plain": [
       "                                            507                  508  \\\n",
       "ds                          2019-08-22 00:00:00  2019-08-23 00:00:00   \n",
       "trend                                   1107.75              1110.53   \n",
       "yhat_lower                              1079.41              1081.22   \n",
       "yhat_upper                               1086.2              1088.24   \n",
       "trend_lower                             1107.71              1110.05   \n",
       "trend_upper                             1107.75              1111.03   \n",
       "additive_terms                         -24.8727             -25.8246   \n",
       "additive_terms_lower                   -24.8727             -25.8246   \n",
       "additive_terms_upper                   -24.8727             -25.8246   \n",
       "weekly                               -0.0488847            0.0546022   \n",
       "weekly_lower                         -0.0488847            0.0546022   \n",
       "weekly_upper                         -0.0488847            0.0546022   \n",
       "yearly                                 -24.8238             -25.8792   \n",
       "yearly_lower                           -24.8238             -25.8792   \n",
       "yearly_upper                           -24.8238             -25.8792   \n",
       "multiplicative_terms                          0                    0   \n",
       "multiplicative_terms_lower                    0                    0   \n",
       "multiplicative_terms_upper                    0                    0   \n",
       "yhat                                    1082.88               1084.7   \n",
       "\n",
       "                                            509                  510  \\\n",
       "ds                          2019-08-24 00:00:00  2019-08-25 00:00:00   \n",
       "trend                                    1113.3              1116.07   \n",
       "yhat_lower                              1083.11              1084.71   \n",
       "yhat_upper                              1090.04              1092.37   \n",
       "trend_lower                             1111.98               1113.8   \n",
       "trend_upper                              1114.5              1118.61   \n",
       "additive_terms                         -26.8554             -27.6596   \n",
       "additive_terms_lower                   -26.8554             -27.6596   \n",
       "additive_terms_upper                   -26.8554             -27.6596   \n",
       "weekly                                0.0104902             0.109747   \n",
       "weekly_lower                          0.0104902             0.109747   \n",
       "weekly_upper                          0.0104902             0.109747   \n",
       "yearly                                 -26.8658             -27.7693   \n",
       "yearly_lower                           -26.8658             -27.7693   \n",
       "yearly_upper                           -26.8658             -27.7693   \n",
       "multiplicative_terms                          0                    0   \n",
       "multiplicative_terms_lower                    0                    0   \n",
       "multiplicative_terms_upper                    0                    0   \n",
       "yhat                                    1086.45              1088.41   \n",
       "\n",
       "                                            511                  512  \\\n",
       "ds                          2019-08-26 00:00:00  2019-08-27 00:00:00   \n",
       "trend                                   1118.85              1121.62   \n",
       "yhat_lower                              1086.06              1087.32   \n",
       "yhat_upper                              1094.89              1097.98   \n",
       "trend_lower                             1115.73               1117.3   \n",
       "trend_upper                             1122.48                 1127   \n",
       "additive_terms                         -28.5649               -29.31   \n",
       "additive_terms_lower                   -28.5649               -29.31   \n",
       "additive_terms_upper                   -28.5649               -29.31   \n",
       "weekly                                0.0118405           -0.0332054   \n",
       "weekly_lower                          0.0118405           -0.0332054   \n",
       "weekly_upper                          0.0118405           -0.0332054   \n",
       "yearly                                 -28.5767             -29.2768   \n",
       "yearly_lower                           -28.5767             -29.2768   \n",
       "yearly_upper                           -28.5767             -29.2768   \n",
       "multiplicative_terms                          0                    0   \n",
       "multiplicative_terms_lower                    0                    0   \n",
       "multiplicative_terms_upper                    0                    0   \n",
       "yhat                                    1090.28              1092.31   \n",
       "\n",
       "                                            513  \n",
       "ds                          2019-08-28 00:00:00  \n",
       "trend                                   1124.39  \n",
       "yhat_lower                              1087.63  \n",
       "yhat_upper                              1100.92  \n",
       "trend_lower                             1118.61  \n",
       "trend_upper                             1130.97  \n",
       "additive_terms                         -29.9653  \n",
       "additive_terms_lower                   -29.9653  \n",
       "additive_terms_upper                   -29.9653  \n",
       "weekly                                -0.104589  \n",
       "weekly_lower                          -0.104589  \n",
       "weekly_upper                          -0.104589  \n",
       "yearly                                 -29.8607  \n",
       "yearly_lower                           -29.8607  \n",
       "yearly_upper                           -29.8607  \n",
       "multiplicative_terms                          0  \n",
       "multiplicative_terms_lower                    0  \n",
       "multiplicative_terms_upper                    0  \n",
       "yhat                                    1094.43  "
      ]
     },
     "execution_count": 9,
     "metadata": {},
     "output_type": "execute_result"
    }
   ],
   "source": [
    "future = model.make_future_dataframe(periods = round(1*7), freq = \"1D\")\n",
    "forecast = model.predict(future)\n",
    "forecast.tail(7).T"
   ]
  },
  {
   "cell_type": "markdown",
   "metadata": {},
   "source": [
    "## 计算error"
   ]
  },
  {
   "cell_type": "code",
   "execution_count": 119,
   "metadata": {},
   "outputs": [
    {
     "name": "stdout",
     "output_type": "stream",
     "text": [
      "0.2259969945972746\n"
     ]
    }
   ],
   "source": [
    "def mean_absolute_percentage_error(y_true, y_pred):\n",
    "    return np.mean(np.abs((y_true - y_pred) / y_true)) * 100\n",
    "error = mean_absolute_percentage_error(data_sum.y[-round(1*7)*1:].values,\n",
    "                                       forecast.yhat[-round(1*7)*1:].values)\n",
    "print(error)"
   ]
  },
  {
   "cell_type": "code",
   "execution_count": 125,
   "metadata": {},
   "outputs": [
    {
     "data": {
      "text/plain": [
       "2.4634373440714756"
      ]
     },
     "execution_count": 125,
     "metadata": {},
     "output_type": "execute_result"
    }
   ],
   "source": [
    "from sklearn import metrics\n",
    "#metrics.r2_score(data_sum.y[-round(1*7)*1:].values,forecast.yhat[-round(1*7)*1:].values)\n",
    "metrics.mean_absolute_error(data_sum.y[-round(1*7)*1:].values,forecast.yhat[-round(1*7)*1:].values)"
   ]
  },
  {
   "cell_type": "markdown",
   "metadata": {},
   "source": [
    "## 数据导出"
   ]
  },
  {
   "cell_type": "code",
   "execution_count": 124,
   "metadata": {},
   "outputs": [],
   "source": [
    "import os\n",
    "os.chdir(r'\\Prophet')############adjust\n",
    "\n",
    "forecast_all=forecast.merge(data[['date','sum_xy']],how='left',left_on='ds',right_on='date')\n",
    "forecast_all.to_csv('prophet_CX-1.csv',index=False)"
   ]
  }
 ],
 "metadata": {
  "kernelspec": {
   "display_name": "Python 3",
   "language": "python",
   "name": "python3"
  },
  "language_info": {
   "codemirror_mode": {
    "name": "ipython",
    "version": 3
   },
   "file_extension": ".py",
   "mimetype": "text/x-python",
   "name": "python",
   "nbconvert_exporter": "python",
   "pygments_lexer": "ipython3",
   "version": "3.7.4"
  },
  "toc": {
   "base_numbering": 1,
   "nav_menu": {},
   "number_sections": true,
   "sideBar": true,
   "skip_h1_title": false,
   "title_cell": "Table of Contents",
   "title_sidebar": "Contents",
   "toc_cell": false,
   "toc_position": {
    "height": "calc(100% - 180px)",
    "left": "10px",
    "top": "150px",
    "width": "284.431px"
   },
   "toc_section_display": true,
   "toc_window_display": true
  }
 },
 "nbformat": 4,
 "nbformat_minor": 2
}
