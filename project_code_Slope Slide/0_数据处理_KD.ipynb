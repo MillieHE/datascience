{
 "cells": [
  {
   "cell_type": "markdown",
   "metadata": {},
   "source": [
    "# define function:data_pro() for data prepocessing"
   ]
  },
  {
   "cell_type": "code",
   "execution_count": 1,
   "metadata": {},
   "outputs": [],
   "source": [
    "import pandas as pd\n",
    "import numpy as np\n",
    "\n",
    "def data_pro(data_name):\n",
    "    data=pd.read_csv(data_name,encoding='gbk')\n",
    "    data.columns=['date','x','y','z']\n",
    "    data['date']=pd.to_datetime(data['date'])\n",
    "    data=data.groupby(['date'])[['x','y','z']].mean().reset_index()\n",
    "    data_raw=pd.DataFrame(pd.date_range(data.iloc[0][0],data.iloc[-1][0],freq='1d'))\n",
    "    data_raw.columns=['date']\n",
    "    data_raw=data_raw.merge(data,how='left',left_on='date',right_on='date')\n",
    "    data_raw=data_raw.interpolate()\n",
    "    data_raw['xx']=data_raw['x'].diff()\n",
    "    data_raw['yy']=data_raw['y'].diff()\n",
    "    data_raw['xx2']=data_raw['xx']*data_raw['xx']\n",
    "    data_raw['yy2']=data_raw['yy']*data_raw['yy']\n",
    "    data_raw['dis_xy']=np.sqrt(data_raw['xx2']+data_raw['yy2'])\n",
    "    #累计坡面位移-sum\n",
    "    data_raw['sum_xy']=np.cumsum(data_raw['dis_xy'])\n",
    "    data_result=data_raw[['date','x','y','z','dis_xy','sum_xy']]\n",
    "    \n",
    "    return data_result"
   ]
  },
  {
   "cell_type": "markdown",
   "metadata": {},
   "source": [
    "# data prepocessing"
   ]
  },
  {
   "cell_type": "code",
   "execution_count": 2,
   "metadata": {},
   "outputs": [
    {
     "name": "stdout",
     "output_type": "stream",
     "text": [
      "['KD_TP10.csv', 'KD_TP11.csv', 'KD_TP12.csv', 'KD_TP13.csv', 'KD_TP14.csv', 'KD_TP15.csv', 'KD_TP18.csv', 'KD_TP19.csv', 'KD_TP20.csv', 'KD_TP21.csv', 'KD_TP22.csv', 'KD_TP23.csv', 'KD_TP25.csv', 'KD_TP26.csv', 'KD_TP27.csv', 'KD_TP28.csv', 'KD_TP29.csv', 'KD_TP3.csv', 'KD_TP5.csv', 'KD_TP8.csv', 'KD_TP9.csv']\n"
     ]
    }
   ],
   "source": [
    "import os\n",
    "filelist = os.listdir(r'\\KD_raw')\n",
    "print(filelist)"
   ]
  },
  {
   "cell_type": "code",
   "execution_count": 3,
   "metadata": {},
   "outputs": [
    {
     "name": "stderr",
     "output_type": "stream",
     "text": [
      "D:\\python\\Anaconda3\\lib\\site-packages\\IPython\\core\\interactiveshell.py:3249: DtypeWarning: Columns (0) have mixed types. Specify dtype option on import or set low_memory=False.\n",
      "  if (await self.run_code(code, result,  async_=asy)):\n"
     ]
    }
   ],
   "source": [
    "for i in filelist:\n",
    "    os.chdir(r'\\KD_raw')##############adjust\n",
    "    data=data_pro(i)\n",
    "    os.chdir(r'\\KD_TP3-29_pre_result')##############adjust\n",
    "    data.to_csv(i,index=False)"
   ]
  }
 ],
 "metadata": {
  "kernelspec": {
   "display_name": "Python 3",
   "language": "python",
   "name": "python3"
  },
  "language_info": {
   "codemirror_mode": {
    "name": "ipython",
    "version": 3
   },
   "file_extension": ".py",
   "mimetype": "text/x-python",
   "name": "python",
   "nbconvert_exporter": "python",
   "pygments_lexer": "ipython3",
   "version": "3.7.4"
  },
  "toc": {
   "base_numbering": 1,
   "nav_menu": {},
   "number_sections": true,
   "sideBar": true,
   "skip_h1_title": false,
   "title_cell": "Table of Contents",
   "title_sidebar": "Contents",
   "toc_cell": false,
   "toc_position": {},
   "toc_section_display": true,
   "toc_window_display": false
  }
 },
 "nbformat": 4,
 "nbformat_minor": 2
}
