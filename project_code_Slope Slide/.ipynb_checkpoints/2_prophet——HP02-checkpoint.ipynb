{
 "cells": [
  {
   "cell_type": "markdown",
   "metadata": {},
   "source": [
    "# 数据导入"
   ]
  },
  {
   "cell_type": "code",
   "execution_count": 1,
   "metadata": {},
   "outputs": [
    {
     "data": {
      "text/html": [
       "<div>\n",
       "<style scoped>\n",
       "    .dataframe tbody tr th:only-of-type {\n",
       "        vertical-align: middle;\n",
       "    }\n",
       "\n",
       "    .dataframe tbody tr th {\n",
       "        vertical-align: top;\n",
       "    }\n",
       "\n",
       "    .dataframe thead th {\n",
       "        text-align: right;\n",
       "    }\n",
       "</style>\n",
       "<table border=\"1\" class=\"dataframe\">\n",
       "  <thead>\n",
       "    <tr style=\"text-align: right;\">\n",
       "      <th></th>\n",
       "      <th>date</th>\n",
       "      <th>sum_xy</th>\n",
       "    </tr>\n",
       "  </thead>\n",
       "  <tbody>\n",
       "    <tr>\n",
       "      <td>1</td>\n",
       "      <td>2017-03-14</td>\n",
       "      <td>0.852536</td>\n",
       "    </tr>\n",
       "    <tr>\n",
       "      <td>2</td>\n",
       "      <td>2017-03-15</td>\n",
       "      <td>1.607626</td>\n",
       "    </tr>\n",
       "    <tr>\n",
       "      <td>3</td>\n",
       "      <td>2017-03-16</td>\n",
       "      <td>3.638666</td>\n",
       "    </tr>\n",
       "    <tr>\n",
       "      <td>4</td>\n",
       "      <td>2017-03-17</td>\n",
       "      <td>8.265377</td>\n",
       "    </tr>\n",
       "    <tr>\n",
       "      <td>5</td>\n",
       "      <td>2017-03-18</td>\n",
       "      <td>10.731331</td>\n",
       "    </tr>\n",
       "    <tr>\n",
       "      <td>...</td>\n",
       "      <td>...</td>\n",
       "      <td>...</td>\n",
       "    </tr>\n",
       "    <tr>\n",
       "      <td>1078</td>\n",
       "      <td>2020-02-24</td>\n",
       "      <td>23027.130190</td>\n",
       "    </tr>\n",
       "    <tr>\n",
       "      <td>1079</td>\n",
       "      <td>2020-02-25</td>\n",
       "      <td>23027.251524</td>\n",
       "    </tr>\n",
       "    <tr>\n",
       "      <td>1080</td>\n",
       "      <td>2020-02-26</td>\n",
       "      <td>23028.221489</td>\n",
       "    </tr>\n",
       "    <tr>\n",
       "      <td>1081</td>\n",
       "      <td>2020-02-27</td>\n",
       "      <td>23029.179458</td>\n",
       "    </tr>\n",
       "    <tr>\n",
       "      <td>1082</td>\n",
       "      <td>2020-02-28</td>\n",
       "      <td>23030.341392</td>\n",
       "    </tr>\n",
       "  </tbody>\n",
       "</table>\n",
       "<p>1082 rows × 2 columns</p>\n",
       "</div>"
      ],
      "text/plain": [
       "           date        sum_xy\n",
       "1    2017-03-14      0.852536\n",
       "2    2017-03-15      1.607626\n",
       "3    2017-03-16      3.638666\n",
       "4    2017-03-17      8.265377\n",
       "5    2017-03-18     10.731331\n",
       "...         ...           ...\n",
       "1078 2020-02-24  23027.130190\n",
       "1079 2020-02-25  23027.251524\n",
       "1080 2020-02-26  23028.221489\n",
       "1081 2020-02-27  23029.179458\n",
       "1082 2020-02-28  23030.341392\n",
       "\n",
       "[1082 rows x 2 columns]"
      ]
     },
     "execution_count": 1,
     "metadata": {},
     "output_type": "execute_result"
    }
   ],
   "source": [
    "import pandas as pd\n",
    "import numpy as np\n",
    "from fbprophet import Prophet\n",
    "import matplotlib.pyplot as plt\n",
    "\n",
    "import os\n",
    "os.chdir(r'\\HCP_HP01-13_pre_result')############adjust\n",
    "data=pd.read_excel('HCP-HP02.xlsx',dtype='str')\n",
    "data=data.dropna()\n",
    "data=data[['date','sum_xy']]\n",
    "data['date']=pd.to_datetime(data['date'])\n",
    "data['sum_xy']=pd.to_numeric(data['sum_xy'])\n",
    "data"
   ]
  },
  {
   "cell_type": "markdown",
   "metadata": {},
   "source": [
    "# 累计位移预测_data_sum"
   ]
  },
  {
   "cell_type": "markdown",
   "metadata": {},
   "source": [
    "## 数据筛选"
   ]
  },
  {
   "cell_type": "code",
   "execution_count": 17,
   "metadata": {},
   "outputs": [],
   "source": [
    "data_sum=data"
   ]
  },
  {
   "cell_type": "markdown",
   "metadata": {},
   "source": [
    "## 按照prophet格式更改数据名称,data_dis"
   ]
  },
  {
   "cell_type": "code",
   "execution_count": 18,
   "metadata": {},
   "outputs": [],
   "source": [
    "data_sum=data_sum.rename(columns={\"sum_xy\":\"y\", \"date\":\"ds\"})"
   ]
  },
  {
   "cell_type": "markdown",
   "metadata": {},
   "source": [
    "## 训练集dataf"
   ]
  },
  {
   "cell_type": "code",
   "execution_count": 19,
   "metadata": {},
   "outputs": [],
   "source": [
    "dataf = data_sum[0:len(data_sum)-round(1*7)]"
   ]
  },
  {
   "cell_type": "markdown",
   "metadata": {},
   "source": [
    "## prophet拟合 训练集dataf"
   ]
  },
  {
   "cell_type": "code",
   "execution_count": 221,
   "metadata": {},
   "outputs": [
    {
     "name": "stderr",
     "output_type": "stream",
     "text": [
      "INFO:fbprophet:Disabling daily seasonality. Run prophet with daily_seasonality=True to override this.\n"
     ]
    },
    {
     "data": {
      "text/plain": [
       "<fbprophet.forecaster.Prophet at 0x29f6b674448>"
      ]
     },
     "execution_count": 221,
     "metadata": {},
     "output_type": "execute_result"
    }
   ],
   "source": [
    "model = Prophet(n_changepoints=145,#default=25\n",
    "                changepoint_range=0.9,#default=0.8\n",
    "                yearly_seasonality=True,weekly_seasonality=True,changepoint_prior_scale=0.5,interval_width=0.95)\n",
    "\n",
    "model.fit(dataf)"
   ]
  },
  {
   "cell_type": "markdown",
   "metadata": {},
   "source": [
    "##  预测后7天的数据"
   ]
  },
  {
   "cell_type": "code",
   "execution_count": 222,
   "metadata": {},
   "outputs": [
    {
     "data": {
      "text/html": [
       "<div>\n",
       "<style scoped>\n",
       "    .dataframe tbody tr th:only-of-type {\n",
       "        vertical-align: middle;\n",
       "    }\n",
       "\n",
       "    .dataframe tbody tr th {\n",
       "        vertical-align: top;\n",
       "    }\n",
       "\n",
       "    .dataframe thead th {\n",
       "        text-align: right;\n",
       "    }\n",
       "</style>\n",
       "<table border=\"1\" class=\"dataframe\">\n",
       "  <thead>\n",
       "    <tr style=\"text-align: right;\">\n",
       "      <th></th>\n",
       "      <th>1075</th>\n",
       "      <th>1076</th>\n",
       "      <th>1077</th>\n",
       "      <th>1078</th>\n",
       "      <th>1079</th>\n",
       "      <th>1080</th>\n",
       "      <th>1081</th>\n",
       "    </tr>\n",
       "  </thead>\n",
       "  <tbody>\n",
       "    <tr>\n",
       "      <td>ds</td>\n",
       "      <td>2020-02-22 00:00:00</td>\n",
       "      <td>2020-02-23 00:00:00</td>\n",
       "      <td>2020-02-24 00:00:00</td>\n",
       "      <td>2020-02-25 00:00:00</td>\n",
       "      <td>2020-02-26 00:00:00</td>\n",
       "      <td>2020-02-27 00:00:00</td>\n",
       "      <td>2020-02-28 00:00:00</td>\n",
       "    </tr>\n",
       "    <tr>\n",
       "      <td>trend</td>\n",
       "      <td>23200.8</td>\n",
       "      <td>23214.7</td>\n",
       "      <td>23228.6</td>\n",
       "      <td>23242.5</td>\n",
       "      <td>23256.3</td>\n",
       "      <td>23270.2</td>\n",
       "      <td>23284.1</td>\n",
       "    </tr>\n",
       "    <tr>\n",
       "      <td>yhat_lower</td>\n",
       "      <td>22874.5</td>\n",
       "      <td>22901.7</td>\n",
       "      <td>22891.4</td>\n",
       "      <td>22890.4</td>\n",
       "      <td>22886.9</td>\n",
       "      <td>22883</td>\n",
       "      <td>22877.7</td>\n",
       "    </tr>\n",
       "    <tr>\n",
       "      <td>yhat_upper</td>\n",
       "      <td>23160.7</td>\n",
       "      <td>23159.3</td>\n",
       "      <td>23165.8</td>\n",
       "      <td>23172.9</td>\n",
       "      <td>23190.3</td>\n",
       "      <td>23172.6</td>\n",
       "      <td>23212.6</td>\n",
       "    </tr>\n",
       "    <tr>\n",
       "      <td>trend_lower</td>\n",
       "      <td>23197.5</td>\n",
       "      <td>23201.3</td>\n",
       "      <td>23204.8</td>\n",
       "      <td>23199.6</td>\n",
       "      <td>23201.2</td>\n",
       "      <td>23199.3</td>\n",
       "      <td>23193.1</td>\n",
       "    </tr>\n",
       "    <tr>\n",
       "      <td>trend_upper</td>\n",
       "      <td>23204.3</td>\n",
       "      <td>23229</td>\n",
       "      <td>23259.1</td>\n",
       "      <td>23295.6</td>\n",
       "      <td>23329.4</td>\n",
       "      <td>23365</td>\n",
       "      <td>23405.9</td>\n",
       "    </tr>\n",
       "    <tr>\n",
       "      <td>additive_terms</td>\n",
       "      <td>-180.053</td>\n",
       "      <td>-188.339</td>\n",
       "      <td>-200.027</td>\n",
       "      <td>-215.616</td>\n",
       "      <td>-224.674</td>\n",
       "      <td>-238.288</td>\n",
       "      <td>-250.116</td>\n",
       "    </tr>\n",
       "    <tr>\n",
       "      <td>additive_terms_lower</td>\n",
       "      <td>-180.053</td>\n",
       "      <td>-188.339</td>\n",
       "      <td>-200.027</td>\n",
       "      <td>-215.616</td>\n",
       "      <td>-224.674</td>\n",
       "      <td>-238.288</td>\n",
       "      <td>-250.116</td>\n",
       "    </tr>\n",
       "    <tr>\n",
       "      <td>additive_terms_upper</td>\n",
       "      <td>-180.053</td>\n",
       "      <td>-188.339</td>\n",
       "      <td>-200.027</td>\n",
       "      <td>-215.616</td>\n",
       "      <td>-224.674</td>\n",
       "      <td>-238.288</td>\n",
       "      <td>-250.116</td>\n",
       "    </tr>\n",
       "    <tr>\n",
       "      <td>weekly</td>\n",
       "      <td>-1.48974</td>\n",
       "      <td>2.41379</td>\n",
       "      <td>2.64831</td>\n",
       "      <td>-1.27428</td>\n",
       "      <td>1.09654</td>\n",
       "      <td>-1.30073</td>\n",
       "      <td>-2.0939</td>\n",
       "    </tr>\n",
       "    <tr>\n",
       "      <td>weekly_lower</td>\n",
       "      <td>-1.48974</td>\n",
       "      <td>2.41379</td>\n",
       "      <td>2.64831</td>\n",
       "      <td>-1.27428</td>\n",
       "      <td>1.09654</td>\n",
       "      <td>-1.30073</td>\n",
       "      <td>-2.0939</td>\n",
       "    </tr>\n",
       "    <tr>\n",
       "      <td>weekly_upper</td>\n",
       "      <td>-1.48974</td>\n",
       "      <td>2.41379</td>\n",
       "      <td>2.64831</td>\n",
       "      <td>-1.27428</td>\n",
       "      <td>1.09654</td>\n",
       "      <td>-1.30073</td>\n",
       "      <td>-2.0939</td>\n",
       "    </tr>\n",
       "    <tr>\n",
       "      <td>yearly</td>\n",
       "      <td>-178.563</td>\n",
       "      <td>-190.753</td>\n",
       "      <td>-202.676</td>\n",
       "      <td>-214.342</td>\n",
       "      <td>-225.77</td>\n",
       "      <td>-236.987</td>\n",
       "      <td>-248.022</td>\n",
       "    </tr>\n",
       "    <tr>\n",
       "      <td>yearly_lower</td>\n",
       "      <td>-178.563</td>\n",
       "      <td>-190.753</td>\n",
       "      <td>-202.676</td>\n",
       "      <td>-214.342</td>\n",
       "      <td>-225.77</td>\n",
       "      <td>-236.987</td>\n",
       "      <td>-248.022</td>\n",
       "    </tr>\n",
       "    <tr>\n",
       "      <td>yearly_upper</td>\n",
       "      <td>-178.563</td>\n",
       "      <td>-190.753</td>\n",
       "      <td>-202.676</td>\n",
       "      <td>-214.342</td>\n",
       "      <td>-225.77</td>\n",
       "      <td>-236.987</td>\n",
       "      <td>-248.022</td>\n",
       "    </tr>\n",
       "    <tr>\n",
       "      <td>multiplicative_terms</td>\n",
       "      <td>0</td>\n",
       "      <td>0</td>\n",
       "      <td>0</td>\n",
       "      <td>0</td>\n",
       "      <td>0</td>\n",
       "      <td>0</td>\n",
       "      <td>0</td>\n",
       "    </tr>\n",
       "    <tr>\n",
       "      <td>multiplicative_terms_lower</td>\n",
       "      <td>0</td>\n",
       "      <td>0</td>\n",
       "      <td>0</td>\n",
       "      <td>0</td>\n",
       "      <td>0</td>\n",
       "      <td>0</td>\n",
       "      <td>0</td>\n",
       "    </tr>\n",
       "    <tr>\n",
       "      <td>multiplicative_terms_upper</td>\n",
       "      <td>0</td>\n",
       "      <td>0</td>\n",
       "      <td>0</td>\n",
       "      <td>0</td>\n",
       "      <td>0</td>\n",
       "      <td>0</td>\n",
       "      <td>0</td>\n",
       "    </tr>\n",
       "    <tr>\n",
       "      <td>yhat</td>\n",
       "      <td>23020.8</td>\n",
       "      <td>23026.4</td>\n",
       "      <td>23028.6</td>\n",
       "      <td>23026.8</td>\n",
       "      <td>23031.7</td>\n",
       "      <td>23031.9</td>\n",
       "      <td>23034</td>\n",
       "    </tr>\n",
       "  </tbody>\n",
       "</table>\n",
       "</div>"
      ],
      "text/plain": [
       "                                           1075                 1076  \\\n",
       "ds                          2020-02-22 00:00:00  2020-02-23 00:00:00   \n",
       "trend                                   23200.8              23214.7   \n",
       "yhat_lower                              22874.5              22901.7   \n",
       "yhat_upper                              23160.7              23159.3   \n",
       "trend_lower                             23197.5              23201.3   \n",
       "trend_upper                             23204.3                23229   \n",
       "additive_terms                         -180.053             -188.339   \n",
       "additive_terms_lower                   -180.053             -188.339   \n",
       "additive_terms_upper                   -180.053             -188.339   \n",
       "weekly                                 -1.48974              2.41379   \n",
       "weekly_lower                           -1.48974              2.41379   \n",
       "weekly_upper                           -1.48974              2.41379   \n",
       "yearly                                 -178.563             -190.753   \n",
       "yearly_lower                           -178.563             -190.753   \n",
       "yearly_upper                           -178.563             -190.753   \n",
       "multiplicative_terms                          0                    0   \n",
       "multiplicative_terms_lower                    0                    0   \n",
       "multiplicative_terms_upper                    0                    0   \n",
       "yhat                                    23020.8              23026.4   \n",
       "\n",
       "                                           1077                 1078  \\\n",
       "ds                          2020-02-24 00:00:00  2020-02-25 00:00:00   \n",
       "trend                                   23228.6              23242.5   \n",
       "yhat_lower                              22891.4              22890.4   \n",
       "yhat_upper                              23165.8              23172.9   \n",
       "trend_lower                             23204.8              23199.6   \n",
       "trend_upper                             23259.1              23295.6   \n",
       "additive_terms                         -200.027             -215.616   \n",
       "additive_terms_lower                   -200.027             -215.616   \n",
       "additive_terms_upper                   -200.027             -215.616   \n",
       "weekly                                  2.64831             -1.27428   \n",
       "weekly_lower                            2.64831             -1.27428   \n",
       "weekly_upper                            2.64831             -1.27428   \n",
       "yearly                                 -202.676             -214.342   \n",
       "yearly_lower                           -202.676             -214.342   \n",
       "yearly_upper                           -202.676             -214.342   \n",
       "multiplicative_terms                          0                    0   \n",
       "multiplicative_terms_lower                    0                    0   \n",
       "multiplicative_terms_upper                    0                    0   \n",
       "yhat                                    23028.6              23026.8   \n",
       "\n",
       "                                           1079                 1080  \\\n",
       "ds                          2020-02-26 00:00:00  2020-02-27 00:00:00   \n",
       "trend                                   23256.3              23270.2   \n",
       "yhat_lower                              22886.9                22883   \n",
       "yhat_upper                              23190.3              23172.6   \n",
       "trend_lower                             23201.2              23199.3   \n",
       "trend_upper                             23329.4                23365   \n",
       "additive_terms                         -224.674             -238.288   \n",
       "additive_terms_lower                   -224.674             -238.288   \n",
       "additive_terms_upper                   -224.674             -238.288   \n",
       "weekly                                  1.09654             -1.30073   \n",
       "weekly_lower                            1.09654             -1.30073   \n",
       "weekly_upper                            1.09654             -1.30073   \n",
       "yearly                                  -225.77             -236.987   \n",
       "yearly_lower                            -225.77             -236.987   \n",
       "yearly_upper                            -225.77             -236.987   \n",
       "multiplicative_terms                          0                    0   \n",
       "multiplicative_terms_lower                    0                    0   \n",
       "multiplicative_terms_upper                    0                    0   \n",
       "yhat                                    23031.7              23031.9   \n",
       "\n",
       "                                           1081  \n",
       "ds                          2020-02-28 00:00:00  \n",
       "trend                                   23284.1  \n",
       "yhat_lower                              22877.7  \n",
       "yhat_upper                              23212.6  \n",
       "trend_lower                             23193.1  \n",
       "trend_upper                             23405.9  \n",
       "additive_terms                         -250.116  \n",
       "additive_terms_lower                   -250.116  \n",
       "additive_terms_upper                   -250.116  \n",
       "weekly                                  -2.0939  \n",
       "weekly_lower                            -2.0939  \n",
       "weekly_upper                            -2.0939  \n",
       "yearly                                 -248.022  \n",
       "yearly_lower                           -248.022  \n",
       "yearly_upper                           -248.022  \n",
       "multiplicative_terms                          0  \n",
       "multiplicative_terms_lower                    0  \n",
       "multiplicative_terms_upper                    0  \n",
       "yhat                                      23034  "
      ]
     },
     "execution_count": 222,
     "metadata": {},
     "output_type": "execute_result"
    }
   ],
   "source": [
    "future = model.make_future_dataframe(periods = round(1*7), freq = \"1D\")\n",
    "forecast = model.predict(future)\n",
    "forecast.tail(7).T"
   ]
  },
  {
   "cell_type": "markdown",
   "metadata": {},
   "source": [
    "## 计算error"
   ]
  },
  {
   "cell_type": "code",
   "execution_count": 227,
   "metadata": {},
   "outputs": [
    {
     "name": "stdout",
     "output_type": "stream",
     "text": [
      "0.009617009396646992\n"
     ]
    }
   ],
   "source": [
    "def mean_absolute_percentage_error(y_true, y_pred):\n",
    "    return np.mean(np.abs((y_true - y_pred) / y_true)) * 100\n",
    "error = mean_absolute_percentage_error(data_sum.y[-round(1*7)*1:].values,\n",
    "                                       forecast.yhat[-round(1*7)*1:].values)\n",
    "print(error)"
   ]
  },
  {
   "cell_type": "code",
   "execution_count": 229,
   "metadata": {},
   "outputs": [
    {
     "data": {
      "text/plain": [
       "2.2145892170462633"
      ]
     },
     "execution_count": 229,
     "metadata": {},
     "output_type": "execute_result"
    }
   ],
   "source": [
    "from sklearn import metrics\n",
    "metrics.r2_score(data_sum.y[-round(1*7)*1:].values,forecast.yhat[-round(1*7)*1:].values)\n",
    "metrics.mean_absolute_error(data_sum.y[-round(1*7)*1:].values,forecast.yhat[-round(1*7)*1:].values)"
   ]
  },
  {
   "cell_type": "markdown",
   "metadata": {},
   "source": [
    "## 数据导出"
   ]
  },
  {
   "cell_type": "code",
   "execution_count": 232,
   "metadata": {},
   "outputs": [],
   "source": [
    "import os\n",
    "os.chdir(r'\\Prophet')############adjust\n",
    "\n",
    "forecast_all=forecast.merge(data[['date','sum_xy']],how='left',left_on='ds',right_on='date')\n",
    "forecast_all.to_csv('prophet_HP02.csv',index=False)"
   ]
  }
 ],
 "metadata": {
  "kernelspec": {
   "display_name": "Python 3",
   "language": "python",
   "name": "python3"
  },
  "language_info": {
   "codemirror_mode": {
    "name": "ipython",
    "version": 3
   },
   "file_extension": ".py",
   "mimetype": "text/x-python",
   "name": "python",
   "nbconvert_exporter": "python",
   "pygments_lexer": "ipython3",
   "version": "3.7.4"
  },
  "toc": {
   "base_numbering": 1,
   "nav_menu": {},
   "number_sections": true,
   "sideBar": true,
   "skip_h1_title": false,
   "title_cell": "Table of Contents",
   "title_sidebar": "Contents",
   "toc_cell": false,
   "toc_position": {
    "height": "calc(100% - 180px)",
    "left": "10px",
    "top": "150px",
    "width": "284.444px"
   },
   "toc_section_display": true,
   "toc_window_display": true
  }
 },
 "nbformat": 4,
 "nbformat_minor": 2
}
