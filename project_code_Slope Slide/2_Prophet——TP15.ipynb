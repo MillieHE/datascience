{
 "cells": [
  {
   "cell_type": "markdown",
   "metadata": {},
   "source": [
    "# 数据导入"
   ]
  },
  {
   "cell_type": "code",
   "execution_count": 1,
   "metadata": {},
   "outputs": [
    {
     "data": {
      "text/html": [
       "<div>\n",
       "<style scoped>\n",
       "    .dataframe tbody tr th:only-of-type {\n",
       "        vertical-align: middle;\n",
       "    }\n",
       "\n",
       "    .dataframe tbody tr th {\n",
       "        vertical-align: top;\n",
       "    }\n",
       "\n",
       "    .dataframe thead th {\n",
       "        text-align: right;\n",
       "    }\n",
       "</style>\n",
       "<table border=\"1\" class=\"dataframe\">\n",
       "  <thead>\n",
       "    <tr style=\"text-align: right;\">\n",
       "      <th></th>\n",
       "      <th>date</th>\n",
       "      <th>sum_xy</th>\n",
       "    </tr>\n",
       "  </thead>\n",
       "  <tbody>\n",
       "    <tr>\n",
       "      <td>1</td>\n",
       "      <td>2018-04-02</td>\n",
       "      <td>12.714165</td>\n",
       "    </tr>\n",
       "    <tr>\n",
       "      <td>2</td>\n",
       "      <td>2018-04-03</td>\n",
       "      <td>24.386783</td>\n",
       "    </tr>\n",
       "    <tr>\n",
       "      <td>3</td>\n",
       "      <td>2018-04-04</td>\n",
       "      <td>29.981423</td>\n",
       "    </tr>\n",
       "    <tr>\n",
       "      <td>4</td>\n",
       "      <td>2018-04-05</td>\n",
       "      <td>39.586110</td>\n",
       "    </tr>\n",
       "    <tr>\n",
       "      <td>5</td>\n",
       "      <td>2018-04-06</td>\n",
       "      <td>45.130476</td>\n",
       "    </tr>\n",
       "    <tr>\n",
       "      <td>...</td>\n",
       "      <td>...</td>\n",
       "      <td>...</td>\n",
       "    </tr>\n",
       "    <tr>\n",
       "      <td>698</td>\n",
       "      <td>2020-02-28</td>\n",
       "      <td>6354.487653</td>\n",
       "    </tr>\n",
       "    <tr>\n",
       "      <td>699</td>\n",
       "      <td>2020-02-29</td>\n",
       "      <td>6360.627685</td>\n",
       "    </tr>\n",
       "    <tr>\n",
       "      <td>700</td>\n",
       "      <td>2020-03-01</td>\n",
       "      <td>6364.429001</td>\n",
       "    </tr>\n",
       "    <tr>\n",
       "      <td>701</td>\n",
       "      <td>2020-03-02</td>\n",
       "      <td>6368.530220</td>\n",
       "    </tr>\n",
       "    <tr>\n",
       "      <td>702</td>\n",
       "      <td>2020-03-03</td>\n",
       "      <td>6372.916563</td>\n",
       "    </tr>\n",
       "  </tbody>\n",
       "</table>\n",
       "<p>702 rows × 2 columns</p>\n",
       "</div>"
      ],
      "text/plain": [
       "          date       sum_xy\n",
       "1   2018-04-02    12.714165\n",
       "2   2018-04-03    24.386783\n",
       "3   2018-04-04    29.981423\n",
       "4   2018-04-05    39.586110\n",
       "5   2018-04-06    45.130476\n",
       "..         ...          ...\n",
       "698 2020-02-28  6354.487653\n",
       "699 2020-02-29  6360.627685\n",
       "700 2020-03-01  6364.429001\n",
       "701 2020-03-02  6368.530220\n",
       "702 2020-03-03  6372.916563\n",
       "\n",
       "[702 rows x 2 columns]"
      ]
     },
     "execution_count": 1,
     "metadata": {},
     "output_type": "execute_result"
    }
   ],
   "source": [
    "import pandas as pd\n",
    "import numpy as np\n",
    "from fbprophet import Prophet\n",
    "import matplotlib.pyplot as plt\n",
    "\n",
    "import os\n",
    "os.chdir(r'\\KD_TP3-29_pre_result')############adjust\n",
    "data=pd.read_csv('KD_TP15.csv',dtype='str')\n",
    "data=data.dropna()\n",
    "data=data[['date','sum_xy']]\n",
    "data['date']=pd.to_datetime(data['date'])\n",
    "data['sum_xy']=pd.to_numeric(data['sum_xy'])\n",
    "data"
   ]
  },
  {
   "cell_type": "markdown",
   "metadata": {},
   "source": [
    "# 累计位移预测_data_sum"
   ]
  },
  {
   "cell_type": "markdown",
   "metadata": {},
   "source": [
    "## 数据筛选"
   ]
  },
  {
   "cell_type": "code",
   "execution_count": 2,
   "metadata": {},
   "outputs": [],
   "source": [
    "data_sum=data"
   ]
  },
  {
   "cell_type": "markdown",
   "metadata": {},
   "source": [
    "## 按照prophet格式更改数据名称,data_dis"
   ]
  },
  {
   "cell_type": "code",
   "execution_count": 3,
   "metadata": {},
   "outputs": [],
   "source": [
    "data_sum=data_sum.rename(columns={\"sum_xy\":\"y\", \"date\":\"ds\"})"
   ]
  },
  {
   "cell_type": "markdown",
   "metadata": {},
   "source": [
    "## 训练集dataf"
   ]
  },
  {
   "cell_type": "code",
   "execution_count": 4,
   "metadata": {},
   "outputs": [],
   "source": [
    "dataf = data_sum[0:len(data_sum)-round(1*7)]"
   ]
  },
  {
   "cell_type": "markdown",
   "metadata": {},
   "source": [
    "## prophet拟合 训练集dataf"
   ]
  },
  {
   "cell_type": "code",
   "execution_count": 79,
   "metadata": {},
   "outputs": [
    {
     "name": "stderr",
     "output_type": "stream",
     "text": [
      "INFO:fbprophet:Disabling daily seasonality. Run prophet with daily_seasonality=True to override this.\n"
     ]
    },
    {
     "data": {
      "text/plain": [
       "<fbprophet.forecaster.Prophet at 0x2a93b66e248>"
      ]
     },
     "execution_count": 79,
     "metadata": {},
     "output_type": "execute_result"
    }
   ],
   "source": [
    "model = Prophet(n_changepoints=55,#default=25\n",
    "                changepoint_range=0.9,#default=0.8\n",
    "                yearly_seasonality=True,weekly_seasonality=True,changepoint_prior_scale=0.5,interval_width=0.95)\n",
    "\n",
    "model.fit(dataf)"
   ]
  },
  {
   "cell_type": "markdown",
   "metadata": {},
   "source": [
    "##  预测后7天的数据"
   ]
  },
  {
   "cell_type": "code",
   "execution_count": 80,
   "metadata": {},
   "outputs": [
    {
     "data": {
      "text/html": [
       "<div>\n",
       "<style scoped>\n",
       "    .dataframe tbody tr th:only-of-type {\n",
       "        vertical-align: middle;\n",
       "    }\n",
       "\n",
       "    .dataframe tbody tr th {\n",
       "        vertical-align: top;\n",
       "    }\n",
       "\n",
       "    .dataframe thead th {\n",
       "        text-align: right;\n",
       "    }\n",
       "</style>\n",
       "<table border=\"1\" class=\"dataframe\">\n",
       "  <thead>\n",
       "    <tr style=\"text-align: right;\">\n",
       "      <th></th>\n",
       "      <th>695</th>\n",
       "      <th>696</th>\n",
       "      <th>697</th>\n",
       "      <th>698</th>\n",
       "      <th>699</th>\n",
       "      <th>700</th>\n",
       "      <th>701</th>\n",
       "    </tr>\n",
       "  </thead>\n",
       "  <tbody>\n",
       "    <tr>\n",
       "      <td>ds</td>\n",
       "      <td>2020-02-26 00:00:00</td>\n",
       "      <td>2020-02-27 00:00:00</td>\n",
       "      <td>2020-02-28 00:00:00</td>\n",
       "      <td>2020-02-29 00:00:00</td>\n",
       "      <td>2020-03-01 00:00:00</td>\n",
       "      <td>2020-03-02 00:00:00</td>\n",
       "      <td>2020-03-03 00:00:00</td>\n",
       "    </tr>\n",
       "    <tr>\n",
       "      <td>trend</td>\n",
       "      <td>6406.73</td>\n",
       "      <td>6411.09</td>\n",
       "      <td>6415.44</td>\n",
       "      <td>6419.8</td>\n",
       "      <td>6424.16</td>\n",
       "      <td>6428.52</td>\n",
       "      <td>6432.88</td>\n",
       "    </tr>\n",
       "    <tr>\n",
       "      <td>yhat_lower</td>\n",
       "      <td>6335.06</td>\n",
       "      <td>6338.35</td>\n",
       "      <td>6340.36</td>\n",
       "      <td>6341.54</td>\n",
       "      <td>6341.29</td>\n",
       "      <td>6339.75</td>\n",
       "      <td>6338.3</td>\n",
       "    </tr>\n",
       "    <tr>\n",
       "      <td>yhat_upper</td>\n",
       "      <td>6361.25</td>\n",
       "      <td>6364.93</td>\n",
       "      <td>6367.76</td>\n",
       "      <td>6371.89</td>\n",
       "      <td>6378.53</td>\n",
       "      <td>6383.45</td>\n",
       "      <td>6391.43</td>\n",
       "    </tr>\n",
       "    <tr>\n",
       "      <td>trend_lower</td>\n",
       "      <td>6406.5</td>\n",
       "      <td>6408.13</td>\n",
       "      <td>6409.23</td>\n",
       "      <td>6409.03</td>\n",
       "      <td>6407.88</td>\n",
       "      <td>6406.05</td>\n",
       "      <td>6404.27</td>\n",
       "    </tr>\n",
       "    <tr>\n",
       "      <td>trend_upper</td>\n",
       "      <td>6406.94</td>\n",
       "      <td>6413.12</td>\n",
       "      <td>6420.68</td>\n",
       "      <td>6429.49</td>\n",
       "      <td>6439.28</td>\n",
       "      <td>6447.54</td>\n",
       "      <td>6458.5</td>\n",
       "    </tr>\n",
       "    <tr>\n",
       "      <td>additive_terms</td>\n",
       "      <td>-58.2727</td>\n",
       "      <td>-59.9235</td>\n",
       "      <td>-61.2935</td>\n",
       "      <td>-62.6322</td>\n",
       "      <td>-63.9913</td>\n",
       "      <td>-65.7251</td>\n",
       "      <td>-66.6924</td>\n",
       "    </tr>\n",
       "    <tr>\n",
       "      <td>additive_terms_lower</td>\n",
       "      <td>-58.2727</td>\n",
       "      <td>-59.9235</td>\n",
       "      <td>-61.2935</td>\n",
       "      <td>-62.6322</td>\n",
       "      <td>-63.9913</td>\n",
       "      <td>-65.7251</td>\n",
       "      <td>-66.6924</td>\n",
       "    </tr>\n",
       "    <tr>\n",
       "      <td>additive_terms_upper</td>\n",
       "      <td>-58.2727</td>\n",
       "      <td>-59.9235</td>\n",
       "      <td>-61.2935</td>\n",
       "      <td>-62.6322</td>\n",
       "      <td>-63.9913</td>\n",
       "      <td>-65.7251</td>\n",
       "      <td>-66.6924</td>\n",
       "    </tr>\n",
       "    <tr>\n",
       "      <td>weekly</td>\n",
       "      <td>0.17411</td>\n",
       "      <td>-0.000835047</td>\n",
       "      <td>0.0555534</td>\n",
       "      <td>0.0965468</td>\n",
       "      <td>0.075545</td>\n",
       "      <td>-0.355123</td>\n",
       "      <td>-0.0457971</td>\n",
       "    </tr>\n",
       "    <tr>\n",
       "      <td>weekly_lower</td>\n",
       "      <td>0.17411</td>\n",
       "      <td>-0.000835047</td>\n",
       "      <td>0.0555534</td>\n",
       "      <td>0.0965468</td>\n",
       "      <td>0.075545</td>\n",
       "      <td>-0.355123</td>\n",
       "      <td>-0.0457971</td>\n",
       "    </tr>\n",
       "    <tr>\n",
       "      <td>weekly_upper</td>\n",
       "      <td>0.17411</td>\n",
       "      <td>-0.000835047</td>\n",
       "      <td>0.0555534</td>\n",
       "      <td>0.0965468</td>\n",
       "      <td>0.075545</td>\n",
       "      <td>-0.355123</td>\n",
       "      <td>-0.0457971</td>\n",
       "    </tr>\n",
       "    <tr>\n",
       "      <td>yearly</td>\n",
       "      <td>-58.4468</td>\n",
       "      <td>-59.9227</td>\n",
       "      <td>-61.349</td>\n",
       "      <td>-62.7288</td>\n",
       "      <td>-64.0669</td>\n",
       "      <td>-65.37</td>\n",
       "      <td>-66.6466</td>\n",
       "    </tr>\n",
       "    <tr>\n",
       "      <td>yearly_lower</td>\n",
       "      <td>-58.4468</td>\n",
       "      <td>-59.9227</td>\n",
       "      <td>-61.349</td>\n",
       "      <td>-62.7288</td>\n",
       "      <td>-64.0669</td>\n",
       "      <td>-65.37</td>\n",
       "      <td>-66.6466</td>\n",
       "    </tr>\n",
       "    <tr>\n",
       "      <td>yearly_upper</td>\n",
       "      <td>-58.4468</td>\n",
       "      <td>-59.9227</td>\n",
       "      <td>-61.349</td>\n",
       "      <td>-62.7288</td>\n",
       "      <td>-64.0669</td>\n",
       "      <td>-65.37</td>\n",
       "      <td>-66.6466</td>\n",
       "    </tr>\n",
       "    <tr>\n",
       "      <td>multiplicative_terms</td>\n",
       "      <td>0</td>\n",
       "      <td>0</td>\n",
       "      <td>0</td>\n",
       "      <td>0</td>\n",
       "      <td>0</td>\n",
       "      <td>0</td>\n",
       "      <td>0</td>\n",
       "    </tr>\n",
       "    <tr>\n",
       "      <td>multiplicative_terms_lower</td>\n",
       "      <td>0</td>\n",
       "      <td>0</td>\n",
       "      <td>0</td>\n",
       "      <td>0</td>\n",
       "      <td>0</td>\n",
       "      <td>0</td>\n",
       "      <td>0</td>\n",
       "    </tr>\n",
       "    <tr>\n",
       "      <td>multiplicative_terms_upper</td>\n",
       "      <td>0</td>\n",
       "      <td>0</td>\n",
       "      <td>0</td>\n",
       "      <td>0</td>\n",
       "      <td>0</td>\n",
       "      <td>0</td>\n",
       "      <td>0</td>\n",
       "    </tr>\n",
       "    <tr>\n",
       "      <td>yhat</td>\n",
       "      <td>6348.46</td>\n",
       "      <td>6351.16</td>\n",
       "      <td>6354.15</td>\n",
       "      <td>6357.17</td>\n",
       "      <td>6360.17</td>\n",
       "      <td>6362.79</td>\n",
       "      <td>6366.18</td>\n",
       "    </tr>\n",
       "  </tbody>\n",
       "</table>\n",
       "</div>"
      ],
      "text/plain": [
       "                                            695                  696  \\\n",
       "ds                          2020-02-26 00:00:00  2020-02-27 00:00:00   \n",
       "trend                                   6406.73              6411.09   \n",
       "yhat_lower                              6335.06              6338.35   \n",
       "yhat_upper                              6361.25              6364.93   \n",
       "trend_lower                              6406.5              6408.13   \n",
       "trend_upper                             6406.94              6413.12   \n",
       "additive_terms                         -58.2727             -59.9235   \n",
       "additive_terms_lower                   -58.2727             -59.9235   \n",
       "additive_terms_upper                   -58.2727             -59.9235   \n",
       "weekly                                  0.17411         -0.000835047   \n",
       "weekly_lower                            0.17411         -0.000835047   \n",
       "weekly_upper                            0.17411         -0.000835047   \n",
       "yearly                                 -58.4468             -59.9227   \n",
       "yearly_lower                           -58.4468             -59.9227   \n",
       "yearly_upper                           -58.4468             -59.9227   \n",
       "multiplicative_terms                          0                    0   \n",
       "multiplicative_terms_lower                    0                    0   \n",
       "multiplicative_terms_upper                    0                    0   \n",
       "yhat                                    6348.46              6351.16   \n",
       "\n",
       "                                            697                  698  \\\n",
       "ds                          2020-02-28 00:00:00  2020-02-29 00:00:00   \n",
       "trend                                   6415.44               6419.8   \n",
       "yhat_lower                              6340.36              6341.54   \n",
       "yhat_upper                              6367.76              6371.89   \n",
       "trend_lower                             6409.23              6409.03   \n",
       "trend_upper                             6420.68              6429.49   \n",
       "additive_terms                         -61.2935             -62.6322   \n",
       "additive_terms_lower                   -61.2935             -62.6322   \n",
       "additive_terms_upper                   -61.2935             -62.6322   \n",
       "weekly                                0.0555534            0.0965468   \n",
       "weekly_lower                          0.0555534            0.0965468   \n",
       "weekly_upper                          0.0555534            0.0965468   \n",
       "yearly                                  -61.349             -62.7288   \n",
       "yearly_lower                            -61.349             -62.7288   \n",
       "yearly_upper                            -61.349             -62.7288   \n",
       "multiplicative_terms                          0                    0   \n",
       "multiplicative_terms_lower                    0                    0   \n",
       "multiplicative_terms_upper                    0                    0   \n",
       "yhat                                    6354.15              6357.17   \n",
       "\n",
       "                                            699                  700  \\\n",
       "ds                          2020-03-01 00:00:00  2020-03-02 00:00:00   \n",
       "trend                                   6424.16              6428.52   \n",
       "yhat_lower                              6341.29              6339.75   \n",
       "yhat_upper                              6378.53              6383.45   \n",
       "trend_lower                             6407.88              6406.05   \n",
       "trend_upper                             6439.28              6447.54   \n",
       "additive_terms                         -63.9913             -65.7251   \n",
       "additive_terms_lower                   -63.9913             -65.7251   \n",
       "additive_terms_upper                   -63.9913             -65.7251   \n",
       "weekly                                 0.075545            -0.355123   \n",
       "weekly_lower                           0.075545            -0.355123   \n",
       "weekly_upper                           0.075545            -0.355123   \n",
       "yearly                                 -64.0669               -65.37   \n",
       "yearly_lower                           -64.0669               -65.37   \n",
       "yearly_upper                           -64.0669               -65.37   \n",
       "multiplicative_terms                          0                    0   \n",
       "multiplicative_terms_lower                    0                    0   \n",
       "multiplicative_terms_upper                    0                    0   \n",
       "yhat                                    6360.17              6362.79   \n",
       "\n",
       "                                            701  \n",
       "ds                          2020-03-03 00:00:00  \n",
       "trend                                   6432.88  \n",
       "yhat_lower                               6338.3  \n",
       "yhat_upper                              6391.43  \n",
       "trend_lower                             6404.27  \n",
       "trend_upper                              6458.5  \n",
       "additive_terms                         -66.6924  \n",
       "additive_terms_lower                   -66.6924  \n",
       "additive_terms_upper                   -66.6924  \n",
       "weekly                               -0.0457971  \n",
       "weekly_lower                         -0.0457971  \n",
       "weekly_upper                         -0.0457971  \n",
       "yearly                                 -66.6466  \n",
       "yearly_lower                           -66.6466  \n",
       "yearly_upper                           -66.6466  \n",
       "multiplicative_terms                          0  \n",
       "multiplicative_terms_lower                    0  \n",
       "multiplicative_terms_upper                    0  \n",
       "yhat                                    6366.18  "
      ]
     },
     "execution_count": 80,
     "metadata": {},
     "output_type": "execute_result"
    }
   ],
   "source": [
    "future = model.make_future_dataframe(periods = round(1*7), freq = \"1D\")\n",
    "forecast = model.predict(future)\n",
    "forecast.tail(7).T"
   ]
  },
  {
   "cell_type": "markdown",
   "metadata": {},
   "source": [
    "## 计算error"
   ]
  },
  {
   "cell_type": "code",
   "execution_count": 85,
   "metadata": {},
   "outputs": [
    {
     "name": "stdout",
     "output_type": "stream",
     "text": [
      "0.04675513777665474\n"
     ]
    }
   ],
   "source": [
    "def mean_absolute_percentage_error(y_true, y_pred):\n",
    "    return np.mean(np.abs((y_true - y_pred) / y_true)) * 100\n",
    "error = mean_absolute_percentage_error(data_sum.y[-round(1*7)*1:].values,\n",
    "                                       forecast.yhat[-round(1*7)*1:].values)\n",
    "print(error)"
   ]
  },
  {
   "cell_type": "code",
   "execution_count": 88,
   "metadata": {},
   "outputs": [
    {
     "data": {
      "text/plain": [
       "2.9770373746741825"
      ]
     },
     "execution_count": 88,
     "metadata": {},
     "output_type": "execute_result"
    }
   ],
   "source": [
    "from sklearn import metrics\n",
    "#metrics.r2_score(data_sum.y[-round(1*7)*1:].values,forecast.yhat[-round(1*7)*1:].values)\n",
    "metrics.mean_absolute_error(data_sum.y[-round(1*7)*1:].values,forecast.yhat[-round(1*7)*1:].values)"
   ]
  },
  {
   "cell_type": "markdown",
   "metadata": {},
   "source": [
    "## 数据导出"
   ]
  },
  {
   "cell_type": "code",
   "execution_count": 76,
   "metadata": {},
   "outputs": [],
   "source": [
    "import os\n",
    "os.chdir(r'\\Prophet')############adjust\n",
    "\n",
    "forecast_all=forecast.merge(data[['date','sum_xy']],how='left',left_on='ds',right_on='date')\n",
    "forecast_all.to_csv('prophet_TP15.csv',index=False)"
   ]
  }
 ],
 "metadata": {
  "kernelspec": {
   "display_name": "Python 3",
   "language": "python",
   "name": "python3"
  },
  "language_info": {
   "codemirror_mode": {
    "name": "ipython",
    "version": 3
   },
   "file_extension": ".py",
   "mimetype": "text/x-python",
   "name": "python",
   "nbconvert_exporter": "python",
   "pygments_lexer": "ipython3",
   "version": "3.7.4"
  },
  "toc": {
   "base_numbering": 1,
   "nav_menu": {},
   "number_sections": true,
   "sideBar": true,
   "skip_h1_title": false,
   "title_cell": "Table of Contents",
   "title_sidebar": "Contents",
   "toc_cell": false,
   "toc_position": {
    "height": "calc(100% - 180px)",
    "left": "10px",
    "top": "150px",
    "width": "284.444px"
   },
   "toc_section_display": true,
   "toc_window_display": true
  }
 },
 "nbformat": 4,
 "nbformat_minor": 2
}
